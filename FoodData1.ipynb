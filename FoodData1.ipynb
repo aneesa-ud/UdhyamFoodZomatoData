{
  "nbformat": 4,
  "nbformat_minor": 0,
  "metadata": {
    "colab": {
      "provenance": [],
      "authorship_tag": "ABX9TyOCPOc4mXnqwWTMdqmAqXQF",
      "include_colab_link": true
    },
    "kernelspec": {
      "name": "python3",
      "display_name": "Python 3"
    },
    "language_info": {
      "name": "python"
    }
  },
  "cells": [
    {
      "cell_type": "markdown",
      "metadata": {
        "id": "view-in-github",
        "colab_type": "text"
      },
      "source": [
        "<a href=\"https://colab.research.google.com/github/aneesa-ud/UdhyamFoodZomatoData/blob/main/FoodData1.ipynb\" target=\"_parent\"><img src=\"https://colab.research.google.com/assets/colab-badge.svg\" alt=\"Open In Colab\"/></a>"
      ]
    },
    {
      "cell_type": "code",
      "source": [
        "# --- Setup ---\n",
        "import pandas as pd\n",
        "import gspread\n",
        "from gspread_dataframe import get_as_dataframe, set_with_dataframe\n",
        "from google.colab import auth\n",
        "from google.auth import default\n",
        "\n",
        "!pip install --upgrade -q gspread gspread-dataframe\n",
        "\n",
        "# Authenticate\n",
        "auth.authenticate_user()\n",
        "creds, _ = default()\n",
        "gc = gspread.authorize(creds)\n",
        "\n",
        "# Open Google Sheets\n",
        "sheet1 = gc.open_by_url(\"https://docs.google.com/spreadsheets/d/1c4DDIFfx9I_9GWRnoZTGIoDoXMl5_BnVTV76vHv7EoI\")\n",
        "sheet2 = gc.open_by_url(\"https://docs.google.com/spreadsheets/d/1vMvPZy28AeTpR-rVNwDjflGL2Gn2Y1P5S7n27RONpxE/edit?usp=sharing\")\n",
        "\n",
        "ws1 = sheet1.get_worksheet(0)\n",
        "ws2 = sheet2.get_worksheet(0)\n",
        "\n",
        "# --- Read DataFrames ---\n",
        "df1 = get_as_dataframe(ws1, evaluate_formulas=True, header=0)\n",
        "df2 = get_as_dataframe(ws2, evaluate_formulas=True, header=0)\n",
        "\n",
        "df1.dropna(how='all', inplace=True)\n",
        "df2.dropna(how='all', inplace=True)\n",
        "\n",
        "# Strip and align columns\n",
        "df1.columns = df1.columns.str.strip()\n",
        "df2.columns = df2.columns.str.strip()\n",
        "\n",
        "# Convert key columns to string and strip spaces\n",
        "for col in ['Restaurant ID', 'Metric']:\n",
        "    df1[col] = df1[col].astype(str).str.strip()\n",
        "    df2[col] = df2[col].astype(str).str.strip()\n",
        "\n",
        "# --- Debug: Check required columns ---\n",
        "required_cols = ['Restaurant ID', 'Metric', 'May']\n",
        "for col in required_cols:\n",
        "    if col not in df1.columns:\n",
        "        raise KeyError(f\"Missing column '{col}' in Sheet 1\")\n",
        "\n",
        "for col in ['Restaurant ID', 'Metric']:\n",
        "    if col not in df2.columns:\n",
        "        raise KeyError(f\"Missing column '{col}' in Sheet 2\")\n",
        "\n",
        "# --- Create Key for Matching ---\n",
        "df1['key'] = df1['Restaurant ID'] + \"|\" + df1['Metric']\n",
        "df2['key'] = df2['Restaurant ID'] + \"|\" + df2['Metric']\n",
        "\n",
        "# --- Build Lookup ---\n",
        "may_lookup = df1.set_index('key')['May'].to_dict()\n",
        "\n",
        "# --- Apply Mapping ---\n",
        "df2['May'] = df2['key'].map(may_lookup)\n",
        "\n",
        "# --- Drop Helper Column ---\n",
        "df2.drop(columns=['key'], inplace=True)\n",
        "\n",
        "# --- Debug: Print Preview ---\n",
        "print(\"Preview of df2 with 'May' column added:\")\n",
        "print(df2[['Restaurant ID', 'Metric', 'May']].head())\n",
        "\n",
        "# --- Write Back to Sheet 2 ---\n",
        "set_with_dataframe(ws2, df2, include_index=False, include_column_header=True, resize=True)\n",
        "print(\"✅ 'May' column added to Sheet 2 successfully!\")\n"
      ],
      "metadata": {
        "colab": {
          "base_uri": "https://localhost:8080/"
        },
        "id": "JHkDnt7b3qXF",
        "outputId": "81c72a94-bd9e-45f6-9ba0-a617cdd0d276"
      },
      "execution_count": 7,
      "outputs": [
        {
          "output_type": "stream",
          "name": "stdout",
          "text": [
            "Preview of df2 with 'May' column added:\n",
            "  Restaurant ID                    Metric      May\n",
            "0      21075151                Sales (Rs)  2708.80\n",
            "1      21075151          Delivered orders    17.00\n",
            "2      21075151  Average order value (Rs)   159.34\n",
            "3      21075151          Market share (%)     0.32\n",
            "4      21075151            Average rating     4.00\n",
            "✅ 'May' column added to Sheet 2 successfully!\n"
          ]
        }
      ]
    }
  ]
}